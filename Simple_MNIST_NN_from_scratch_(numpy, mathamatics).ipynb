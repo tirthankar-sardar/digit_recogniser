{
  "cells": [
    {
      "metadata": {
        "_uuid": "8f2839f25d086af736a60e9eeb907d3b93b6e0e5",
        "_cell_guid": "b1076dfc-b9ad-4769-8c92-a6c4dae69d19",
        "trusted": true,
        "id": "n6X0k9O9yg65"
      },
      "cell_type": "code",
      "source": [
        "import numpy as np\n",
        "import pandas as pd\n",
        "from matplotlib import pyplot as plt\n",
        "\n",
        "data = pd.read_csv('/content/train.csv')"
      ],
      "execution_count": 7,
      "outputs": []
    },
    {
      "metadata": {
        "trusted": true,
        "id": "iG7m-CNbyg66"
      },
      "cell_type": "code",
      "source": [
        "data = np.array(data)\n",
        "m, n = data.shape\n",
        "np.random.shuffle(data) # shuffle before splitting into dev and training sets\n",
        "\n",
        "data_dev = data[0:1000].T\n",
        "Y_dev = data_dev[0]\n",
        "X_dev = data_dev[1:n]\n",
        "X_dev = X_dev / 255.\n",
        "\n",
        "data_train = data[1000:m].T\n",
        "Y_train = data_train[0]\n",
        "X_train = data_train[1:n]\n",
        "X_train = X_train / 255.\n",
        "_,m_train = X_train.shape"
      ],
      "execution_count": 8,
      "outputs": []
    },
    {
      "metadata": {
        "trusted": true,
        "id": "XapRV8VSyg66",
        "colab": {
          "base_uri": "https://localhost:8080/"
        },
        "outputId": "a3cae10f-1173-48b4-8ece-524dac329e99"
      },
      "cell_type": "code",
      "source": [
        "Y_train"
      ],
      "execution_count": 9,
      "outputs": [
        {
          "output_type": "execute_result",
          "data": {
            "text/plain": [
              "array([0, 7, 8, ..., 6, 5, 9])"
            ]
          },
          "metadata": {},
          "execution_count": 9
        }
      ]
    },
    {
      "metadata": {
        "id": "cBUmGh0iyg66"
      },
      "cell_type": "markdown",
      "source": [
        "Our NN will have a simple two-layer architecture. Input layer $a^{[0]}$ will have 784 units corresponding to the 784 pixels in each 28x28 input image. A hidden layer $a^{[1]}$ will have 10 units with ReLU activation, and finally our output layer $a^{[2]}$ will have 10 units corresponding to the ten digit classes with softmax activation.\n",
        "\n",
        "**Forward propagation**\n",
        "\n",
        "$$Z^{[1]} = W^{[1]} X + b^{[1]}$$\n",
        "$$A^{[1]} = g_{\\text{ReLU}}(Z^{[1]}))$$\n",
        "$$Z^{[2]} = W^{[2]} A^{[1]} + b^{[2]}$$\n",
        "$$A^{[2]} = g_{\\text{softmax}}(Z^{[2]})$$\n",
        "\n",
        "**Backward propagation**\n",
        "\n",
        "$$dZ^{[2]} = A^{[2]} - Y$$\n",
        "$$dW^{[2]} = \\frac{1}{m} dZ^{[2]} A^{[1]T}$$\n",
        "$$dB^{[2]} = \\frac{1}{m} \\Sigma {dZ^{[2]}}$$\n",
        "$$dZ^{[1]} = W^{[2]T} dZ^{[2]} .* g^{[1]\\prime} (z^{[1]})$$\n",
        "$$dW^{[1]} = \\frac{1}{m} dZ^{[1]} A^{[0]T}$$\n",
        "$$dB^{[1]} = \\frac{1}{m} \\Sigma {dZ^{[1]}}$$\n",
        "\n",
        "**Parameter updates**\n",
        "\n",
        "$$W^{[2]} := W^{[2]} - \\alpha dW^{[2]}$$\n",
        "$$b^{[2]} := b^{[2]} - \\alpha db^{[2]}$$\n",
        "$$W^{[1]} := W^{[1]} - \\alpha dW^{[1]}$$\n",
        "$$b^{[1]} := b^{[1]} - \\alpha db^{[1]}$$\n",
        "\n",
        "**Vars and shapes**\n",
        "\n",
        "Forward prop\n",
        "\n",
        "- $A^{[0]} = X$: 784 x m\n",
        "- $Z^{[1]} \\sim A^{[1]}$: 10 x m\n",
        "- $W^{[1]}$: 10 x 784 (as $W^{[1]} A^{[0]} \\sim Z^{[1]}$)\n",
        "- $B^{[1]}$: 10 x 1\n",
        "- $Z^{[2]} \\sim A^{[2]}$: 10 x m\n",
        "- $W^{[1]}$: 10 x 10 (as $W^{[2]} A^{[1]} \\sim Z^{[2]}$)\n",
        "- $B^{[2]}$: 10 x 1\n",
        "\n",
        "Backprop\n",
        "\n",
        "- $dZ^{[2]}$: 10 x m ($~A^{[2]}$)\n",
        "- $dW^{[2]}$: 10 x 10\n",
        "- $dB^{[2]}$: 10 x 1\n",
        "- $dZ^{[1]}$: 10 x m ($~A^{[1]}$)\n",
        "- $dW^{[1]}$: 10 x 10\n",
        "- $dB^{[1]}$: 10 x 1"
      ]
    },
    {
      "metadata": {
        "trusted": true,
        "id": "pQJaRTApyg67"
      },
      "cell_type": "code",
      "source": [
        "def init_params():\n",
        "    W1 = np.random.rand(10, 784) - 0.5\n",
        "    b1 = np.random.rand(10, 1) - 0.5\n",
        "    W2 = np.random.rand(10, 10) - 0.5\n",
        "    b2 = np.random.rand(10, 1) - 0.5\n",
        "    return W1, b1, W2, b2\n",
        "\n",
        "def ReLU(Z):\n",
        "    return np.maximum(Z, 0)\n",
        "\n",
        "def softmax(Z):\n",
        "    A = np.exp(Z) / sum(np.exp(Z))\n",
        "    return A\n",
        "\n",
        "def forward_prop(W1, b1, W2, b2, X):\n",
        "    Z1 = W1.dot(X) + b1\n",
        "    A1 = ReLU(Z1)\n",
        "    Z2 = W2.dot(A1) + b2\n",
        "    A2 = softmax(Z2)\n",
        "    return Z1, A1, Z2, A2\n",
        "\n",
        "def ReLU_deriv(Z):\n",
        "    return Z > 0\n",
        "\n",
        "def one_hot(Y):\n",
        "    one_hot_Y = np.zeros((Y.size, Y.max() + 1))\n",
        "    one_hot_Y[np.arange(Y.size), Y] = 1\n",
        "    one_hot_Y = one_hot_Y.T\n",
        "    return one_hot_Y\n",
        "\n",
        "def backward_prop(Z1, A1, Z2, A2, W1, W2, X, Y):\n",
        "    one_hot_Y = one_hot(Y)\n",
        "    dZ2 = A2 - one_hot_Y\n",
        "    dW2 = 1 / m * dZ2.dot(A1.T)\n",
        "    db2 = 1 / m * np.sum(dZ2)\n",
        "    dZ1 = W2.T.dot(dZ2) * ReLU_deriv(Z1)\n",
        "    dW1 = 1 / m * dZ1.dot(X.T)\n",
        "    db1 = 1 / m * np.sum(dZ1)\n",
        "    return dW1, db1, dW2, db2\n",
        "\n",
        "def update_params(W1, b1, W2, b2, dW1, db1, dW2, db2, alpha):\n",
        "    W1 = W1 - alpha * dW1\n",
        "    b1 = b1 - alpha * db1\n",
        "    W2 = W2 - alpha * dW2\n",
        "    b2 = b2 - alpha * db2\n",
        "    return W1, b1, W2, b2"
      ],
      "execution_count": 10,
      "outputs": []
    },
    {
      "metadata": {
        "trusted": true,
        "id": "cU1HGQtuyg67"
      },
      "cell_type": "code",
      "source": [
        "def get_predictions(A2):\n",
        "    return np.argmax(A2, 0)\n",
        "\n",
        "def get_accuracy(predictions, Y):\n",
        "    print(predictions, Y)\n",
        "    return np.sum(predictions == Y) / Y.size\n",
        "\n",
        "def gradient_descent(X, Y, alpha, iterations):\n",
        "    W1, b1, W2, b2 = init_params()\n",
        "    for i in range(iterations):\n",
        "        Z1, A1, Z2, A2 = forward_prop(W1, b1, W2, b2, X)\n",
        "        dW1, db1, dW2, db2 = backward_prop(Z1, A1, Z2, A2, W1, W2, X, Y)\n",
        "        W1, b1, W2, b2 = update_params(W1, b1, W2, b2, dW1, db1, dW2, db2, alpha)\n",
        "        if i % 10 == 0:\n",
        "            print(\"Iteration: \", i)\n",
        "            predictions = get_predictions(A2)\n",
        "            print(get_accuracy(predictions, Y))\n",
        "    return W1, b1, W2, b2"
      ],
      "execution_count": 11,
      "outputs": []
    },
    {
      "metadata": {
        "trusted": true,
        "id": "153uh-f-yg67",
        "colab": {
          "base_uri": "https://localhost:8080/"
        },
        "outputId": "e702e752-b20f-496a-dcb5-346b3167e34c"
      },
      "cell_type": "code",
      "source": [
        "W1, b1, W2, b2 = gradient_descent(X_train, Y_train, 0.10, 500)"
      ],
      "execution_count": 12,
      "outputs": [
        {
          "output_type": "stream",
          "name": "stdout",
          "text": [
            "Iteration:  0\n",
            "[2 8 9 ... 5 3 3] [0 7 8 ... 6 5 9]\n",
            "0.09595121951219512\n",
            "Iteration:  10\n",
            "[5 8 3 ... 5 3 3] [0 7 8 ... 6 5 9]\n",
            "0.13429268292682928\n",
            "Iteration:  20\n",
            "[5 8 3 ... 5 3 3] [0 7 8 ... 6 5 9]\n",
            "0.1871951219512195\n",
            "Iteration:  30\n",
            "[5 8 3 ... 5 1 3] [0 7 8 ... 6 5 9]\n",
            "0.25078048780487805\n",
            "Iteration:  40\n",
            "[5 3 3 ... 5 1 1] [0 7 8 ... 6 5 9]\n",
            "0.3073658536585366\n",
            "Iteration:  50\n",
            "[5 3 3 ... 9 1 1] [0 7 8 ... 6 5 9]\n",
            "0.3513170731707317\n",
            "Iteration:  60\n",
            "[8 7 3 ... 7 1 1] [0 7 8 ... 6 5 9]\n",
            "0.389\n",
            "Iteration:  70\n",
            "[8 7 3 ... 6 1 1] [0 7 8 ... 6 5 9]\n",
            "0.42565853658536584\n",
            "Iteration:  80\n",
            "[5 7 1 ... 6 2 1] [0 7 8 ... 6 5 9]\n",
            "0.4738292682926829\n",
            "Iteration:  90\n",
            "[0 7 1 ... 6 2 1] [0 7 8 ... 6 5 9]\n",
            "0.5130243902439025\n",
            "Iteration:  100\n",
            "[0 2 1 ... 6 8 1] [0 7 8 ... 6 5 9]\n",
            "0.5463414634146342\n",
            "Iteration:  110\n",
            "[0 2 1 ... 6 8 1] [0 7 8 ... 6 5 9]\n",
            "0.5798780487804878\n",
            "Iteration:  120\n",
            "[0 2 1 ... 6 8 7] [0 7 8 ... 6 5 9]\n",
            "0.6077560975609756\n",
            "Iteration:  130\n",
            "[0 2 1 ... 6 8 7] [0 7 8 ... 6 5 9]\n",
            "0.6331463414634146\n",
            "Iteration:  140\n",
            "[0 2 1 ... 6 8 7] [0 7 8 ... 6 5 9]\n",
            "0.6544146341463415\n",
            "Iteration:  150\n",
            "[0 2 1 ... 6 8 7] [0 7 8 ... 6 5 9]\n",
            "0.6720243902439025\n",
            "Iteration:  160\n",
            "[0 2 1 ... 6 8 7] [0 7 8 ... 6 5 9]\n",
            "0.6880243902439024\n",
            "Iteration:  170\n",
            "[0 8 1 ... 6 8 9] [0 7 8 ... 6 5 9]\n",
            "0.701560975609756\n",
            "Iteration:  180\n",
            "[0 8 1 ... 6 8 9] [0 7 8 ... 6 5 9]\n",
            "0.7121219512195122\n",
            "Iteration:  190\n",
            "[0 8 1 ... 6 8 9] [0 7 8 ... 6 5 9]\n",
            "0.722390243902439\n",
            "Iteration:  200\n",
            "[0 8 1 ... 6 8 9] [0 7 8 ... 6 5 9]\n",
            "0.7324146341463414\n",
            "Iteration:  210\n",
            "[0 8 1 ... 6 8 9] [0 7 8 ... 6 5 9]\n",
            "0.7408292682926829\n",
            "Iteration:  220\n",
            "[0 8 1 ... 6 8 9] [0 7 8 ... 6 5 9]\n",
            "0.7490487804878049\n",
            "Iteration:  230\n",
            "[0 8 1 ... 6 8 9] [0 7 8 ... 6 5 9]\n",
            "0.7564634146341463\n",
            "Iteration:  240\n",
            "[0 8 1 ... 6 8 9] [0 7 8 ... 6 5 9]\n",
            "0.7632926829268293\n",
            "Iteration:  250\n",
            "[0 8 1 ... 6 8 9] [0 7 8 ... 6 5 9]\n",
            "0.7700243902439025\n",
            "Iteration:  260\n",
            "[0 8 1 ... 6 5 9] [0 7 8 ... 6 5 9]\n",
            "0.7761951219512195\n",
            "Iteration:  270\n",
            "[0 8 1 ... 6 5 9] [0 7 8 ... 6 5 9]\n",
            "0.781829268292683\n",
            "Iteration:  280\n",
            "[0 8 1 ... 6 5 9] [0 7 8 ... 6 5 9]\n",
            "0.7877073170731708\n",
            "Iteration:  290\n",
            "[0 8 1 ... 6 5 9] [0 7 8 ... 6 5 9]\n",
            "0.7927804878048781\n",
            "Iteration:  300\n",
            "[0 8 1 ... 6 5 9] [0 7 8 ... 6 5 9]\n",
            "0.7972682926829269\n",
            "Iteration:  310\n",
            "[0 8 1 ... 6 5 9] [0 7 8 ... 6 5 9]\n",
            "0.8013414634146342\n",
            "Iteration:  320\n",
            "[0 8 1 ... 6 5 9] [0 7 8 ... 6 5 9]\n",
            "0.8052926829268293\n",
            "Iteration:  330\n",
            "[0 8 1 ... 6 5 9] [0 7 8 ... 6 5 9]\n",
            "0.8090243902439025\n",
            "Iteration:  340\n",
            "[0 8 1 ... 6 5 9] [0 7 8 ... 6 5 9]\n",
            "0.8129024390243902\n",
            "Iteration:  350\n",
            "[0 8 1 ... 6 5 9] [0 7 8 ... 6 5 9]\n",
            "0.8161463414634146\n",
            "Iteration:  360\n",
            "[0 8 1 ... 6 5 9] [0 7 8 ... 6 5 9]\n",
            "0.8198048780487804\n",
            "Iteration:  370\n",
            "[0 9 1 ... 6 5 9] [0 7 8 ... 6 5 9]\n",
            "0.8228048780487804\n",
            "Iteration:  380\n",
            "[0 9 1 ... 6 5 9] [0 7 8 ... 6 5 9]\n",
            "0.8251951219512195\n",
            "Iteration:  390\n",
            "[0 9 1 ... 6 5 9] [0 7 8 ... 6 5 9]\n",
            "0.8276829268292683\n",
            "Iteration:  400\n",
            "[0 9 1 ... 6 5 9] [0 7 8 ... 6 5 9]\n",
            "0.8298780487804878\n",
            "Iteration:  410\n",
            "[0 9 1 ... 6 5 9] [0 7 8 ... 6 5 9]\n",
            "0.8319024390243902\n",
            "Iteration:  420\n",
            "[0 9 1 ... 6 5 9] [0 7 8 ... 6 5 9]\n",
            "0.8339268292682926\n",
            "Iteration:  430\n",
            "[0 9 1 ... 6 5 9] [0 7 8 ... 6 5 9]\n",
            "0.8361463414634146\n",
            "Iteration:  440\n",
            "[0 9 1 ... 6 5 9] [0 7 8 ... 6 5 9]\n",
            "0.8378292682926829\n",
            "Iteration:  450\n",
            "[0 9 1 ... 6 5 9] [0 7 8 ... 6 5 9]\n",
            "0.8398048780487805\n",
            "Iteration:  460\n",
            "[0 9 1 ... 6 5 9] [0 7 8 ... 6 5 9]\n",
            "0.8408780487804878\n",
            "Iteration:  470\n",
            "[0 9 1 ... 6 5 9] [0 7 8 ... 6 5 9]\n",
            "0.8425609756097561\n",
            "Iteration:  480\n",
            "[0 9 1 ... 6 5 9] [0 7 8 ... 6 5 9]\n",
            "0.8443414634146341\n",
            "Iteration:  490\n",
            "[0 9 1 ... 6 5 9] [0 7 8 ... 6 5 9]\n",
            "0.8458536585365853\n"
          ]
        }
      ]
    },
    {
      "metadata": {
        "trusted": true,
        "id": "1fEJSieiyg68"
      },
      "cell_type": "code",
      "source": [
        "def make_predictions(X, W1, b1, W2, b2):\n",
        "    _, _, _, A2 = forward_prop(W1, b1, W2, b2, X)\n",
        "    predictions = get_predictions(A2)\n",
        "    return predictions\n",
        "\n",
        "def test_prediction(index, W1, b1, W2, b2):\n",
        "    current_image = X_train[:, index, None]\n",
        "    prediction = make_predictions(X_train[:, index, None], W1, b1, W2, b2)\n",
        "    label = Y_train[index]\n",
        "    print(\"Prediction: \", prediction)\n",
        "    print(\"Label: \", label)\n",
        "\n",
        "    current_image = current_image.reshape((28, 28)) * 255\n",
        "    plt.gray()\n",
        "    plt.imshow(current_image, interpolation='nearest')\n",
        "    plt.show()"
      ],
      "execution_count": 13,
      "outputs": []
    },
    {
      "metadata": {
        "id": "nv3_gbWDyg68"
      },
      "cell_type": "markdown",
      "source": [
        "Examples:"
      ]
    },
    {
      "metadata": {
        "trusted": true,
        "id": "CV9dvWVwyg68",
        "colab": {
          "base_uri": "https://localhost:8080/",
          "height": 1000
        },
        "outputId": "33bcacf6-79cf-4d89-a1e6-494b4feba56d"
      },
      "cell_type": "code",
      "source": [
        "test_prediction(0, W1, b1, W2, b2)\n",
        "test_prediction(1, W1, b1, W2, b2)\n",
        "test_prediction(2, W1, b1, W2, b2)\n",
        "test_prediction(3, W1, b1, W2, b2)"
      ],
      "execution_count": 14,
      "outputs": [
        {
          "output_type": "stream",
          "name": "stdout",
          "text": [
            "Prediction:  [0]\n",
            "Label:  0\n"
          ]
        },
        {
          "output_type": "display_data",
          "data": {
            "text/plain": [
              "<Figure size 640x480 with 1 Axes>"
            ],
            "image/png": "[encoded data removed]"
          },
          "metadata": {}
        },
        {
          "output_type": "stream",
          "name": "stdout",
          "text": [
            "Prediction:  [9]\n",
            "Label:  7\n"
          ]
        },
        {
          "output_type": "display_data",
          "data": {
            "text/plain": [
              "<Figure size 640x480 with 1 Axes>"
            ],
            "image/png": "[encoded data removed]"
          },
          "metadata": {}
        },
        {
          "output_type": "stream",
          "name": "stdout",
          "text": [
            "Prediction:  [1]\n",
            "Label:  8\n"
          ]
        },
        {
          "output_type": "display_data",
          "data": {
            "text/plain": [
              "<Figure size 640x480 with 1 Axes>"
            ],
            "image/png": "[encoded data removed]"
          },
          "metadata": {}
        },
        {
          "output_type": "stream",
          "name": "stdout",
          "text": [
            "Prediction:  [1]\n",
            "Label:  1\n"
          ]
        },
        {
          "output_type": "display_data",
          "data": {
            "text/plain": [
              "<Figure size 640x480 with 1 Axes>"
            ],
            "image/png": "[encoded data removed]"
          },
          "metadata": {}
        }
      ]
    },
    {
      "metadata": {
        "id": "rkVpCbSIyg68"
      },
      "cell_type": "markdown",
      "source": [
        "Finally the accuracy on the dev set:"
      ]
    },
    {
      "metadata": {
        "trusted": true,
        "id": "qEuc15z9yg68",
        "colab": {
          "base_uri": "https://localhost:8080/"
        },
        "outputId": "8ba44407-f929-4ae0-cd32-46396b02cfdb"
      },
      "cell_type": "code",
      "source": [
        "dev_predictions = make_predictions(X_dev, W1, b1, W2, b2)\n",
        "get_accuracy(dev_predictions, Y_dev)"
      ],
      "execution_count": 15,
      "outputs": [
        {
          "output_type": "stream",
          "name": "stdout",
          "text": [
            "[9 9 7 0 7 1 4 5 8 1 5 6 8 1 0 3 3 5 1 1 1 4 0 9 2 3 7 7 9 0 1 4 2 5 0 5 6\n",
            " 7 9 6 3 4 5 4 8 0 7 7 7 1 7 1 6 7 5 1 1 7 1 8 9 0 2 1 3 1 6 1 2 2 2 1 7 8\n",
            " 3 5 8 7 4 3 3 0 7 1 9 2 2 6 2 7 9 6 6 6 2 1 3 0 0 4 0 9 0 8 2 7 1 3 4 6 1\n",
            " 8 3 6 7 4 3 4 7 1 0 8 2 2 1 0 1 4 2 9 6 4 3 5 8 7 8 1 4 2 4 3 9 5 3 6 5 7\n",
            " 1 4 2 7 3 4 2 8 1 2 5 8 9 1 4 3 2 2 5 2 2 9 1 6 9 3 9 8 6 2 3 5 0 9 5 2 2\n",
            " 5 6 9 9 8 7 9 4 5 3 5 6 2 8 9 7 8 6 9 8 2 7 9 9 9 9 3 2 6 6 4 7 7 1 3 4 7\n",
            " 9 1 7 8 4 3 0 3 8 2 7 2 6 7 3 9 1 6 3 6 9 9 7 6 1 3 6 4 6 1 4 6 8 5 3 2 4\n",
            " 6 4 5 3 0 8 3 0 3 1 4 7 7 8 8 1 7 8 9 7 3 7 5 1 5 0 6 2 1 3 2 3 6 1 4 6 4\n",
            " 6 4 4 6 1 2 2 3 9 2 9 8 3 3 6 0 2 2 1 1 0 1 0 7 9 3 2 7 6 0 5 4 0 4 9 6 4\n",
            " 5 7 5 3 5 6 6 1 7 1 1 5 1 3 3 3 1 5 1 0 9 1 7 4 9 1 9 7 3 2 6 3 5 4 2 8 1\n",
            " 7 3 1 8 3 8 8 8 1 7 6 1 8 1 5 5 3 5 1 8 6 2 8 9 7 4 7 8 5 6 1 6 6 3 6 6 2\n",
            " 0 3 8 4 8 3 5 1 3 1 5 4 8 7 2 7 2 9 9 9 9 7 7 1 1 6 4 7 6 8 2 3 0 4 9 2 6\n",
            " 3 3 6 1 2 3 0 7 6 1 2 1 6 9 7 9 3 6 3 6 9 0 1 6 6 0 3 9 7 7 2 9 5 0 9 7 0\n",
            " 6 0 6 0 6 4 9 1 6 7 3 0 9 0 1 5 3 3 6 2 9 9 2 3 5 7 3 3 8 3 0 1 6 1 0 0 5\n",
            " 3 1 8 9 3 7 1 3 2 1 3 0 2 0 2 4 5 2 3 0 1 4 2 0 5 0 4 2 1 3 8 9 8 1 2 9 0\n",
            " 2 6 2 0 0 8 8 8 2 5 9 6 6 7 1 1 2 7 8 1 3 9 2 1 3 5 7 4 5 4 7 5 6 8 7 4 6\n",
            " 0 9 6 8 8 2 6 2 2 0 6 8 5 8 7 2 4 6 6 8 5 2 7 0 6 5 7 4 1 5 6 4 2 8 2 7 5\n",
            " 2 2 9 2 4 4 6 0 5 6 6 6 2 4 6 2 8 4 6 0 7 9 1 2 2 7 3 0 3 0 0 1 0 0 4 8 2\n",
            " 2 1 1 2 0 9 4 0 7 9 3 7 1 3 1 2 2 6 8 5 5 9 8 4 5 5 3 6 5 5 3 5 3 0 8 6 4\n",
            " 8 6 4 5 6 7 6 1 9 5 1 3 0 7 1 8 6 4 4 5 4 2 0 8 7 7 6 7 9 0 8 8 8 2 1 0 9\n",
            " 8 3 3 7 2 8 2 5 3 4 0 0 4 5 4 8 0 0 2 1 6 5 7 9 1 3 8 8 7 0 9 5 7 2 9 7 7\n",
            " 7 5 5 2 7 1 4 2 8 1 2 1 5 1 5 7 6 7 9 1 4 2 4 9 5 7 1 9 1 5 0 0 4 8 0 2 0\n",
            " 7 9 9 9 7 4 2 8 8 5 6 9 9 8 1 4 5 6 3 7 6 6 2 0 2 9 5 3 1 1 1 6 8 1 2 6 8\n",
            " 0 5 6 5 5 7 2 0 9 9 9 4 1 2 2 7 3 1 9 6 8 0 9 6 3 1 5 5 7 9 5 3 5 2 5 9 2\n",
            " 1 1 6 6 0 6 2 2 8 9 0 6 5 8 7 9 6 2 0 7 8 0 0 1 8 1 5 5 0 0 5 9 4 0 1 7 5\n",
            " 4 7 4 3 5 7 5 1 1 3 8 6 9 5 2 8 2 9 5 9 5 4 0 3 3 1 1 5 9 6 3 1 6 3 8 8 1\n",
            " 1 8 0 9 8 3 4 1 3 0 4 3 6 0 5 0 1 4 4 8 6 6 5 6 7 7 2 3 2 9 6 5 1 0 7 9 2\n",
            " 4] [9 9 7 0 7 1 4 5 5 1 5 6 2 1 0 3 3 8 6 1 1 4 0 9 2 3 7 7 9 0 1 4 3 5 0 5 6\n",
            " 7 7 6 3 4 8 4 8 0 7 7 7 1 9 1 6 7 8 1 1 7 1 5 2 0 2 1 3 1 6 1 7 2 2 1 7 8\n",
            " 3 6 8 7 4 3 3 0 7 1 9 2 2 6 2 7 9 6 6 6 9 1 3 0 0 4 0 4 0 5 2 7 1 3 4 6 1\n",
            " 8 3 2 7 4 7 4 7 1 5 8 2 2 1 0 1 4 2 9 6 7 3 5 8 7 8 1 4 2 4 3 9 5 3 6 5 7\n",
            " 1 4 2 7 3 4 7 8 7 2 0 3 9 1 4 3 2 2 8 2 2 9 1 6 9 3 9 8 5 2 3 5 0 9 5 2 2\n",
            " 5 6 9 9 8 7 9 4 5 3 5 6 2 2 9 7 8 6 9 8 3 7 9 9 9 9 3 6 6 6 4 7 7 1 5 4 7\n",
            " 9 2 7 8 4 3 5 3 8 2 7 2 6 7 3 9 1 6 5 6 4 7 7 6 1 3 6 4 6 1 4 6 8 3 3 2 1\n",
            " 6 4 3 8 0 5 3 0 3 1 4 7 7 8 8 1 7 8 9 2 3 7 5 7 5 0 6 2 3 3 2 3 6 1 4 6 4\n",
            " 6 4 4 6 3 2 2 3 4 2 9 8 3 3 4 0 8 2 1 1 0 1 0 7 9 3 2 7 6 0 5 4 0 4 9 6 4\n",
            " 5 7 5 8 3 6 6 1 7 1 1 5 1 3 3 3 1 5 1 0 9 1 7 4 9 1 9 7 3 3 6 8 5 4 2 8 1\n",
            " 7 3 1 8 3 3 4 9 1 7 6 5 8 1 5 5 3 5 1 8 6 2 5 9 7 4 7 8 7 6 1 6 6 3 6 6 2\n",
            " 0 3 8 4 1 3 5 1 3 1 8 4 8 7 2 7 2 2 9 9 9 7 7 1 7 6 4 7 6 8 2 3 5 4 9 2 6\n",
            " 3 3 6 1 2 3 0 7 6 1 2 1 6 9 7 9 3 6 3 6 9 0 1 6 2 0 3 9 7 7 2 9 5 0 9 7 0\n",
            " 6 0 6 0 6 4 9 1 6 7 5 0 9 0 8 5 3 3 6 2 4 9 2 3 5 7 3 3 5 3 0 1 0 1 0 0 5\n",
            " 3 1 8 9 3 7 1 3 2 1 3 0 2 0 2 4 5 0 3 0 1 4 2 0 8 0 4 2 1 3 8 7 8 6 2 9 0\n",
            " 2 2 8 0 0 8 2 8 2 5 9 6 6 7 1 1 2 7 8 1 3 4 2 1 8 5 7 4 5 4 7 5 6 8 7 1 6\n",
            " 6 4 6 8 8 2 6 2 2 0 6 9 5 8 7 2 4 6 2 6 3 2 2 0 6 5 7 4 1 5 6 4 2 8 2 7 5\n",
            " 2 2 9 2 8 4 2 0 0 6 6 6 2 4 6 8 3 4 6 0 7 9 1 2 2 7 3 0 3 0 0 1 0 0 4 8 2\n",
            " 8 1 1 2 0 9 4 0 7 9 3 7 1 3 1 2 2 6 8 5 5 9 8 4 6 5 3 6 5 3 5 5 3 0 9 6 4\n",
            " 8 6 4 5 6 7 6 1 9 0 1 3 0 7 1 8 6 4 4 5 4 2 0 8 7 7 6 7 9 0 1 3 8 2 1 0 9\n",
            " 8 3 2 7 2 9 2 3 3 4 0 0 4 5 4 8 0 0 7 1 6 5 7 9 2 3 8 8 7 0 9 8 7 2 9 7 7\n",
            " 7 8 5 2 9 1 9 2 8 1 2 1 5 1 3 7 4 7 4 1 4 2 4 4 5 7 1 9 1 5 0 0 4 8 0 3 0\n",
            " 7 9 3 4 7 4 2 8 8 5 6 9 9 8 7 4 5 3 2 7 6 6 2 0 7 4 5 3 1 1 1 6 8 1 2 6 8\n",
            " 0 5 6 5 5 7 2 8 9 9 9 4 1 2 2 7 3 1 9 4 1 0 9 6 2 1 0 5 7 4 8 3 5 2 5 9 2\n",
            " 1 1 6 6 0 6 2 2 1 9 0 6 5 3 7 9 6 2 0 7 8 0 0 1 8 1 0 8 0 0 0 4 5 0 1 7 5\n",
            " 4 7 9 3 3 7 8 2 1 3 5 6 7 3 3 8 2 9 5 9 6 4 0 3 3 1 1 5 4 6 3 1 6 3 7 8 1\n",
            " 1 1 0 4 8 3 4 1 3 0 4 3 6 0 5 0 1 4 4 8 6 6 5 6 7 7 2 2 2 4 6 5 1 0 7 9 5\n",
            " 4]\n"
          ]
        },
        {
          "output_type": "execute_result",
          "data": {
            "text/plain": [
              "np.float64(0.851)"
            ]
          },
          "metadata": {},
          "execution_count": 15
        }
      ]
    },
    {
      "cell_type": "code",
      "source": [],
      "metadata": {
        "id": "ZTiUf09r0ILf"
      },
      "execution_count": null,
      "outputs": []
    }
  ],
  "metadata": {
    "kernelspec": {
      "language": "python",
      "display_name": "Python 3",
      "name": "python3"
    },
    "language_info": {
      "pygments_lexer": "ipython3",
      "nbconvert_exporter": "python",
      "version": "3.6.4",
      "file_extension": ".py",
      "codemirror_mode": {
        "name": "ipython",
        "version": 3
      },
      "name": "python",
      "mimetype": "text/x-python"
    },
    "colab": {
      "provenance": []
    }
  },
  "nbformat": 4,
  "nbformat_minor": 0
}